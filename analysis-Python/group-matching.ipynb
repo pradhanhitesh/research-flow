{
 "cells": [
  {
   "cell_type": "code",
   "execution_count": 9,
   "metadata": {},
   "outputs": [],
   "source": [
    "# Import dependecies\n",
    "import pandas as pd\n",
    "import numpy as np\n",
    "from random import sample\n",
    "import matplotlib.pyplot as plt\n",
    "import seaborn as sns\n",
    "\n",
    "def create_subgroups(path, group_var, treatment_var, control_var):\n",
    "    data = pd.read_csv(path)\n",
    "    group_by = group_var\n",
    "    group_control = data[data[group_by] == control_var].reset_index(drop = True)\n",
    "    group_treatment = data[data[group_by] == treatment_var].reset_index(drop = True)\n",
    "    \n",
    "    return group_control, group_treatment\n",
    "\n",
    "def match(control, treatment, matching_number):\n",
    "    control_main, control_cache = control, control\n",
    "    treatment_main, treatment_cache = treatment, treatment\n",
    "    \n",
    "    matched = []\n",
    "    for k in range(len(treatment_cache)):\n",
    "        get_age, get_gender = treatment_cache.Age.iloc[k], treatment_cache.Gender.iloc[k]\n",
    "        sampled = control_cache[(control_cache.Age == get_age) & (control_cache.Gender == get_gender)]\n",
    "\n",
    "        if len(sampled) > matching_number:\n",
    "            sampler = sampled.sample(n=matching_number)\n",
    "            matched += [list(sampler.index) + [k]]\n",
    "            control_cache = control_cache.drop(index = sampler.index[0])\n",
    "            \n",
    "    matched = np.array(matched)\n",
    "    control_matched = control_main.iloc[matched[:,0]]\n",
    "    treatment_matched = treatment_main.iloc[matched[:,1]]\n",
    "    matched_df = pd.concat([control_matched, treatment_matched]).reset_index(drop=True)\n",
    "    \n",
    "    return matched_df"
   ]
  },
  {
   "cell_type": "code",
   "execution_count": null,
   "metadata": {},
   "outputs": [],
   "source": [
    "control, treatment = create_subgroups(path = \"path_to_your_csv_file\",\n",
    "                                      group_var = \"grouping_variable_column_name\",\n",
    "                                      control_var = \"your_control_group_name\",\n",
    "                                      treatment_var = \"your_treatment_group_name\")\n",
    "\n",
    "matched_df = match(control, treatment, matching_number=1)"
   ]
  }
 ],
 "metadata": {
  "kernelspec": {
   "display_name": "env",
   "language": "python",
   "name": "python3"
  },
  "language_info": {
   "codemirror_mode": {
    "name": "ipython",
    "version": 3
   },
   "file_extension": ".py",
   "mimetype": "text/x-python",
   "name": "python",
   "nbconvert_exporter": "python",
   "pygments_lexer": "ipython3",
   "version": "3.10.4"
  }
 },
 "nbformat": 4,
 "nbformat_minor": 2
}
